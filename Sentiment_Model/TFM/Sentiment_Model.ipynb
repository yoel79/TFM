{
 "cells": [
  {
   "cell_type": "code",
   "execution_count": 1,
   "metadata": {},
   "outputs": [],
   "source": [
    "# Importar librerías necesarias\n",
    "import pandas as pd\n",
    "from sklearn.model_selection import train_test_split\n",
    "from datasets import Dataset\n",
    "from transformers import DistilBertTokenizer, DistilBertForSequenceClassification, Trainer, TrainingArguments\n",
    "from torch.utils.data import DataLoader\n",
    "from transformers import TrainerCallback\n"
   ]
  },
  {
   "cell_type": "code",
   "execution_count": 2,
   "metadata": {},
   "outputs": [],
   "source": [
    "dataset = pd.read_parquet(\"hf://datasets/TimKoornstra/synthetic-financial-tweets-sentiment/data/train-00000-of-00001.parquet\")\n"
   ]
  },
  {
   "cell_type": "code",
   "execution_count": 3,
   "metadata": {},
   "outputs": [
    {
     "name": "stdout",
     "output_type": "stream",
     "text": [
      "(1428771, 2)\n"
     ]
    },
    {
     "data": {
      "text/html": [
       "<div>\n",
       "<style scoped>\n",
       "    .dataframe tbody tr th:only-of-type {\n",
       "        vertical-align: middle;\n",
       "    }\n",
       "\n",
       "    .dataframe tbody tr th {\n",
       "        vertical-align: top;\n",
       "    }\n",
       "\n",
       "    .dataframe thead th {\n",
       "        text-align: right;\n",
       "    }\n",
       "</style>\n",
       "<table border=\"1\" class=\"dataframe\">\n",
       "  <thead>\n",
       "    <tr style=\"text-align: right;\">\n",
       "      <th></th>\n",
       "      <th>tweet</th>\n",
       "      <th>sentiment</th>\n",
       "    </tr>\n",
       "  </thead>\n",
       "  <tbody>\n",
       "    <tr>\n",
       "      <th>0</th>\n",
       "      <td>💰 Cashing out stocks today has left me with a ...</td>\n",
       "      <td>2</td>\n",
       "    </tr>\n",
       "    <tr>\n",
       "      <th>1</th>\n",
       "      <td>💸 Losing half my investments in the last month...</td>\n",
       "      <td>2</td>\n",
       "    </tr>\n",
       "    <tr>\n",
       "      <th>2</th>\n",
       "      <td>📉 Crypto bubble finally bursts! The crypto tra...</td>\n",
       "      <td>2</td>\n",
       "    </tr>\n",
       "    <tr>\n",
       "      <th>3</th>\n",
       "      <td>🔥 The blazing inferno engulfs the stock market...</td>\n",
       "      <td>2</td>\n",
       "    </tr>\n",
       "    <tr>\n",
       "      <th>4</th>\n",
       "      <td>🥶 My stocks are stuck in an icy grip today. Fi...</td>\n",
       "      <td>2</td>\n",
       "    </tr>\n",
       "  </tbody>\n",
       "</table>\n",
       "</div>"
      ],
      "text/plain": [
       "                                               tweet  sentiment\n",
       "0  💰 Cashing out stocks today has left me with a ...          2\n",
       "1  💸 Losing half my investments in the last month...          2\n",
       "2  📉 Crypto bubble finally bursts! The crypto tra...          2\n",
       "3  🔥 The blazing inferno engulfs the stock market...          2\n",
       "4  🥶 My stocks are stuck in an icy grip today. Fi...          2"
      ]
     },
     "execution_count": 3,
     "metadata": {},
     "output_type": "execute_result"
    }
   ],
   "source": [
    "print(dataset.shape)\n",
    "dataset.head()\n"
   ]
  },
  {
   "cell_type": "code",
   "execution_count": 11,
   "metadata": {},
   "outputs": [
    {
     "name": "stdout",
     "output_type": "stream",
     "text": [
      "(57151, 3)\n"
     ]
    }
   ],
   "source": [
    "# Preprocesar el dataset\n",
    "dataset = dataset[['tweet', 'sentiment']]  # Asegúrate de que el dataframe solo tenga las columnas necesarias\n",
    "\n",
    "# Reducir el tamaño del dataset al 5% de forma aleatoria\n",
    "reduced_dataset = dataset.sample(frac=0.05, random_state=42)\n",
    "\n",
    "# Dividir en entrenamiento y validación\n",
    "train_df, val_df = train_test_split(reduced_dataset, test_size=0.2, random_state=42)\n",
    "\n",
    "# Convertir a formato de Hugging Face Dataset\n",
    "train_dataset = Dataset.from_pandas(train_df)\n",
    "val_dataset = Dataset.from_pandas(val_df)\n",
    "\n",
    "train_dataset = train_dataset.rename_column(\"sentiment\", \"labels\")\n",
    "val_dataset = val_dataset.rename_column(\"sentiment\", \"labels\")\n",
    "\n",
    "print(train_dataset.shape)"
   ]
  },
  {
   "cell_type": "code",
   "execution_count": 12,
   "metadata": {},
   "outputs": [
    {
     "data": {
      "application/vnd.jupyter.widget-view+json": {
       "model_id": "ce4fbf02473e4bdd9fa916afc3d7dac7",
       "version_major": 2,
       "version_minor": 0
      },
      "text/plain": [
       "Map:   0%|          | 0/57151 [00:00<?, ? examples/s]"
      ]
     },
     "metadata": {},
     "output_type": "display_data"
    },
    {
     "data": {
      "application/vnd.jupyter.widget-view+json": {
       "model_id": "55a81f8a674b415db81c633a332d0681",
       "version_major": 2,
       "version_minor": 0
      },
      "text/plain": [
       "Map:   0%|          | 0/14288 [00:00<?, ? examples/s]"
      ]
     },
     "metadata": {},
     "output_type": "display_data"
    }
   ],
   "source": [
    "# Cargar el tokenizador de BERT\n",
    "tokenizer = DistilBertTokenizer.from_pretrained('distilbert-base-uncased')\n",
    "\n",
    "# Preprocesar los datos: Tokenizar los tweets\n",
    "def preprocess_function(examples):\n",
    "    return tokenizer(examples['tweet'], truncation=True, padding=True, max_length=128)\n",
    "\n",
    "train_dataset = train_dataset.map(preprocess_function, batched=True)\n",
    "val_dataset = val_dataset.map(preprocess_function, batched=True)"
   ]
  },
  {
   "cell_type": "code",
   "execution_count": 13,
   "metadata": {},
   "outputs": [
    {
     "name": "stderr",
     "output_type": "stream",
     "text": [
      "Some weights of DistilBertForSequenceClassification were not initialized from the model checkpoint at distilbert-base-uncased and are newly initialized: ['classifier.bias', 'classifier.weight', 'pre_classifier.bias', 'pre_classifier.weight']\n",
      "You should probably TRAIN this model on a down-stream task to be able to use it for predictions and inference.\n"
     ]
    },
    {
     "name": "stdout",
     "output_type": "stream",
     "text": [
      "Running in cuda\n"
     ]
    },
    {
     "name": "stderr",
     "output_type": "stream",
     "text": [
      "c:\\Users\\pmyoe\\anaconda3\\Lib\\site-packages\\transformers\\training_args.py:1575: FutureWarning: `evaluation_strategy` is deprecated and will be removed in version 4.46 of 🤗 Transformers. Use `eval_strategy` instead\n",
      "  warnings.warn(\n",
      "c:\\Users\\pmyoe\\anaconda3\\Lib\\site-packages\\transformers\\optimization.py:591: FutureWarning: This implementation of AdamW is deprecated and will be removed in a future version. Use the PyTorch implementation torch.optim.AdamW instead, or set `no_deprecation_warning=True` to disable this warning\n",
      "  warnings.warn(\n",
      "C:\\Users\\pmyoe\\AppData\\Local\\Temp\\ipykernel_22608\\901765421.py:40: FutureWarning: `tokenizer` is deprecated and will be removed in version 5.0.0 for `Trainer.__init__`. Use `processing_class` instead.\n",
      "  trainer = Trainer(\n"
     ]
    },
    {
     "data": {
      "text/html": [
       "\n",
       "    <div>\n",
       "      \n",
       "      <progress value='5358' max='5358' style='width:300px; height:20px; vertical-align: middle;'></progress>\n",
       "      [5358/5358 6:18:46, Epoch 3/3]\n",
       "    </div>\n",
       "    <table border=\"1\" class=\"dataframe\">\n",
       "  <thead>\n",
       " <tr style=\"text-align: left;\">\n",
       "      <th>Epoch</th>\n",
       "      <th>Training Loss</th>\n",
       "      <th>Validation Loss</th>\n",
       "      <th>Accuracy</th>\n",
       "      <th>F1</th>\n",
       "      <th>Precision</th>\n",
       "      <th>Recall</th>\n",
       "    </tr>\n",
       "  </thead>\n",
       "  <tbody>\n",
       "    <tr>\n",
       "      <td>1</td>\n",
       "      <td>0.197800</td>\n",
       "      <td>0.250201</td>\n",
       "      <td>0.907475</td>\n",
       "      <td>0.907959</td>\n",
       "      <td>0.910494</td>\n",
       "      <td>0.907475</td>\n",
       "    </tr>\n",
       "    <tr>\n",
       "      <td>2</td>\n",
       "      <td>0.145800</td>\n",
       "      <td>0.242904</td>\n",
       "      <td>0.913214</td>\n",
       "      <td>0.913643</td>\n",
       "      <td>0.916845</td>\n",
       "      <td>0.913214</td>\n",
       "    </tr>\n",
       "    <tr>\n",
       "      <td>3</td>\n",
       "      <td>0.234400</td>\n",
       "      <td>0.230939</td>\n",
       "      <td>0.919793</td>\n",
       "      <td>0.919973</td>\n",
       "      <td>0.921203</td>\n",
       "      <td>0.919793</td>\n",
       "    </tr>\n",
       "  </tbody>\n",
       "</table><p>"
      ],
      "text/plain": [
       "<IPython.core.display.HTML object>"
      ]
     },
     "metadata": {},
     "output_type": "display_data"
    },
    {
     "data": {
      "text/plain": [
       "TrainOutput(global_step=5358, training_loss=0.2541519622831213, metrics={'train_runtime': 22729.4969, 'train_samples_per_second': 7.543, 'train_steps_per_second': 0.236, 'total_flos': 5677033005483840.0, 'train_loss': 0.2541519622831213, 'epoch': 3.0})"
      ]
     },
     "execution_count": 13,
     "metadata": {},
     "output_type": "execute_result"
    }
   ],
   "source": [
    "# Cargar el modelo de BERT preentrenado para clasificación de secuencias\n",
    "model = DistilBertForSequenceClassification.from_pretrained('distilbert-base-uncased', num_labels=3, dropout= 0.3)\n",
    "\n",
    "# Forzar el uso de GPU si está disponible\n",
    "import torch\n",
    "device = torch.device(\"cuda\" if torch.cuda.is_available() else \"cpu\")\n",
    "model.to(device)\n",
    "print(f\"Running in {device}\")\n",
    "\n",
    "# Definir los argumentos de entrenamiento\n",
    "training_args = TrainingArguments(\n",
    "    output_dir='./results',          # Directorio de salida\n",
    "    num_train_epochs=3,              # Número de épocas\n",
    "    per_device_train_batch_size=32,   # Tamaño del batch por dispositivo\n",
    "    per_device_eval_batch_size=64,    # Tamaño del batch para la evaluación\n",
    "    warmup_steps=500,                # Número de pasos de warm-up\n",
    "    weight_decay=0.1,               # Decaimiento del peso\n",
    "    logging_dir='./logs',            # Directorio para los registros\n",
    "    logging_steps=10,\n",
    "    evaluation_strategy=\"epoch\",     # Evaluación al final de cada época\n",
    "    save_strategy=\"epoch\",           # Guardar el modelo al final de cada época\n",
    "    load_best_model_at_end=True,     # Cargar el mejor modelo al final\n",
    "    fp16=True                        # Habilitar cálculos en precisión mixta para mayor velocidad en GPU\n",
    ")\n",
    "\n",
    "# Función de métricas\n",
    "from sklearn.metrics import accuracy_score, precision_recall_fscore_support\n",
    "\n",
    "def compute_metrics(eval_pred):\n",
    "    logits, labels = eval_pred\n",
    "    predictions = logits.argmax(axis=-1)\n",
    "    precision, recall, f1, _ = precision_recall_fscore_support(labels, predictions, average='weighted')\n",
    "    acc = accuracy_score(labels, predictions)\n",
    "    return {\"accuracy\": acc, \"f1\": f1, \"precision\": precision, \"recall\": recall}\n",
    "\n",
    "\n",
    "from transformers import AdamW\n",
    "\n",
    "# Cambiar el optimizador a AdamW\n",
    "optimizer = AdamW(model.parameters(), lr=2e-5, weight_decay=0.1)\n",
    "trainer = Trainer(\n",
    "    model=model,\n",
    "    args=training_args,\n",
    "    train_dataset=train_dataset,\n",
    "    eval_dataset=val_dataset,\n",
    "    tokenizer=tokenizer,\n",
    "    compute_metrics=compute_metrics,\n",
    "    optimizers=(optimizer, None)  # Asignar el optimizador\n",
    ")\n",
    "\n",
    "# Entrenar el modelo\n",
    "trainer.train()"
   ]
  },
  {
   "cell_type": "code",
   "execution_count": 18,
   "metadata": {},
   "outputs": [
    {
     "name": "stderr",
     "output_type": "stream",
     "text": [
      "Device set to use cuda:0\n"
     ]
    },
    {
     "name": "stdout",
     "output_type": "stream",
     "text": [
      "Tweet: The stock market is doing great today! 🚀\n",
      "Predicción: Positivo (Confianza: 0.9974)\n",
      "\n",
      "Tweet: I can't believe I lost so much money. 😔\n",
      "Predicción: Negativo (Confianza: 0.9991)\n",
      "\n",
      "Tweet: Not sure about investing anymore, the market is too volatile.\n",
      "Predicción: Negativo (Confianza: 0.9993)\n",
      "\n"
     ]
    }
   ],
   "source": [
    "from transformers import pipeline\n",
    "\n",
    "# Ruta del mejor checkpoint (generalmente se encuentra en ./results/checkpoint-xxxx)\n",
    "best_checkpoint = './results/checkpoint-5358'  # Reemplaza con el mejor checkpoint\n",
    "\n",
    "# Cargar modelo y tokenizador desde el mejor checkpoint\n",
    "model = DistilBertForSequenceClassification.from_pretrained(best_checkpoint)\n",
    "tokenizer = DistilBertTokenizer.from_pretrained(best_checkpoint)\n",
    "\n",
    "# Crear pipeline\n",
    "classifier = pipeline(\"text-classification\", model=model, tokenizer=tokenizer, device=0)\n",
    "\n",
    "# Tweets de prueba\n",
    "tweets = [\n",
    "    \"The stock market is doing great today! 🚀\",\n",
    "    \"I can't believe I lost so much money. 😔\",\n",
    "    \"Not sure about investing anymore, the market is too volatile.\"\n",
    "]\n",
    "\n",
    "# Predicción\n",
    "predictions = classifier(tweets)\n",
    "\n",
    "label_mapping = {\"LABEL_0\": \"Neutral\", \"LABEL_1\": \"Positivo\", \"LABEL_2\": \"Negativo\"}\n",
    "\n",
    "# Ajustar la predicción\n",
    "for tweet, pred in zip(tweets, predictions):\n",
    "    sentiment = label_mapping[pred['label']]\n",
    "    print(f\"Tweet: {tweet}\")\n",
    "    print(f\"Predicción: {sentiment} (Confianza: {pred['score']:.4f})\\n\")\n",
    "\n"
   ]
  }
 ],
 "metadata": {
  "kernelspec": {
   "display_name": "base",
   "language": "python",
   "name": "python3"
  },
  "language_info": {
   "codemirror_mode": {
    "name": "ipython",
    "version": 3
   },
   "file_extension": ".py",
   "mimetype": "text/x-python",
   "name": "python",
   "nbconvert_exporter": "python",
   "pygments_lexer": "ipython3",
   "version": "3.11.7"
  }
 },
 "nbformat": 4,
 "nbformat_minor": 2
}
